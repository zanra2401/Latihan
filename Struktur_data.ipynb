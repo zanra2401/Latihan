{
  "nbformat": 4,
  "nbformat_minor": 0,
  "metadata": {
    "colab": {
      "provenance": [],
      "authorship_tag": "ABX9TyPrN/C0VQ3WGSsFcXWCKQR8",
      "include_colab_link": true
    },
    "kernelspec": {
      "name": "python3",
      "display_name": "Python 3"
    },
    "language_info": {
      "name": "python"
    }
  },
  "cells": [
    {
      "cell_type": "markdown",
      "metadata": {
        "id": "view-in-github",
        "colab_type": "text"
      },
      "source": [
        "<a href=\"https://colab.research.google.com/github/zanra2401/Latihan/blob/main/Struktur_data.ipynb\" target=\"_parent\"><img src=\"https://colab.research.google.com/assets/colab-badge.svg\" alt=\"Open In Colab\"/></a>"
      ]
    },
    {
      "cell_type": "markdown",
      "source": [
        "# Kamis pertemuan 2"
      ],
      "metadata": {
        "id": "d3tfoaL3o-_X"
      }
    },
    {
      "cell_type": "markdown",
      "source": [
        "$f(n) = \\sum_{i=1}^n4i$"
      ],
      "metadata": {
        "id": "nNi3CqieFl5k"
      }
    },
    {
      "cell_type": "code",
      "source": [
        "n = 2\n",
        "fn = 0\n",
        "for i in range(2):\n",
        "  fn = fn + 4 * (i+1)\n",
        "\n",
        "print(fn)"
      ],
      "metadata": {
        "colab": {
          "base_uri": "https://localhost:8080/"
        },
        "id": "OvUNS6fjGT8s",
        "outputId": "d9553847-2a27-4040-e976-22a9a58d056e"
      },
      "execution_count": null,
      "outputs": [
        {
          "output_type": "stream",
          "name": "stdout",
          "text": [
            "12\n"
          ]
        }
      ]
    },
    {
      "cell_type": "markdown",
      "source": [
        "$f(n) = 4 \\sum_{i=1}^ni^2$\n",
        "\n",
        "---\n",
        "\n"
      ],
      "metadata": {
        "id": "Q0AM-LAQF9hw"
      }
    },
    {
      "cell_type": "code",
      "execution_count": null,
      "metadata": {
        "colab": {
          "base_uri": "https://localhost:8080/"
        },
        "id": "hHfSo3COCqSv",
        "outputId": "02739298-df3b-43f5-cc2c-262ca42a735b"
      },
      "outputs": [
        {
          "output_type": "stream",
          "name": "stdout",
          "text": [
            "Angka : 3\n",
            "56\n"
          ]
        }
      ],
      "source": [
        "n = int(input(\"Angka : \"))\n",
        "fn = 0\n",
        "for i in range(n):\n",
        "  fn = fn + (i+1) ** 2\n",
        "\n",
        "fn = 4 * fn\n",
        "\n",
        "print(fn)\n"
      ]
    },
    {
      "cell_type": "markdown",
      "source": [
        "\\begin{eqnarray}\n",
        "f(n)&=&\\frac{1}{n}\\sum_{i=0}^{n-1}x_iw(x_i)\\\\\n",
        "w(x)&=&\n",
        "  \\begin{cases}\n",
        "  1, &\\text{if } x \\ge 10 \\\\\n",
        "  0, &\\text{otherwise}\n",
        "  \\end{cases}\n",
        "\\end{eqnarray}"
      ],
      "metadata": {
        "id": "MwPr_5FtHtyt"
      }
    },
    {
      "cell_type": "code",
      "source": [
        "\n",
        "list_data = [10,1,5,20]\n",
        "n = len(list_data)\n",
        "fn = 0\n",
        "\n",
        "def w(x):\n",
        "  return 1 if x >= 10 else 0\n",
        "\n",
        "for i in range(n):\n",
        "  fn = fn + (list_data[i] * w(list_data[i]))\n",
        "\n",
        "sum = (1/n) * fn\n",
        "\n",
        "print(sum)\n"
      ],
      "metadata": {
        "colab": {
          "base_uri": "https://localhost:8080/"
        },
        "id": "jR-aQsw6EBOX",
        "outputId": "89254293-ad9c-4eff-d3d8-6719581951a3"
      },
      "execution_count": null,
      "outputs": [
        {
          "output_type": "stream",
          "name": "stdout",
          "text": [
            "7.5\n"
          ]
        }
      ]
    },
    {
      "cell_type": "markdown",
      "source": [
        "## List Comprehension"
      ],
      "metadata": {
        "id": "76wQKQMhUq5p"
      }
    },
    {
      "cell_type": "code",
      "source": [
        "x=[10,20,1,5,30]\n",
        "w=[1 if x[i] >= 10 else 0 for i in range(len(x))]\n",
        "fn = 0\n",
        "for i in range(len(x)):\n",
        "  fn += x[i] * w[i]\n",
        "\n",
        "total = fn/len(x)\n",
        "\n",
        "print(total)"
      ],
      "metadata": {
        "colab": {
          "base_uri": "https://localhost:8080/"
        },
        "id": "3_uO6c_SUvvf",
        "outputId": "7dd435cb-1f8a-4ea2-8560-a48d720dec63"
      },
      "execution_count": null,
      "outputs": [
        {
          "output_type": "stream",
          "name": "stdout",
          "text": [
            "12.0\n"
          ]
        }
      ]
    },
    {
      "cell_type": "code",
      "source": [
        "data = [10,9,4,5,6]\n",
        "maximal = 0\n",
        "for i in range(len(data)):\n",
        "  for j in range(len(data)):\n",
        "    if i == j:\n",
        "      continue\n",
        "    else:\n",
        "      if data[i] * data[j] > maximal:\n",
        "        maximal = data[i] * data[j]\n",
        "      else:\n",
        "        continue"
      ],
      "metadata": {
        "colab": {
          "base_uri": "https://localhost:8080/"
        },
        "id": "RbowtBq0VU2I",
        "outputId": "7ec49492-63ea-4072-9588-82d0a670dc2c"
      },
      "execution_count": null,
      "outputs": [
        {
          "output_type": "stream",
          "name": "stdout",
          "text": [
            "10\n"
          ]
        }
      ]
    },
    {
      "cell_type": "code",
      "source": [
        "data = [1,5,9,10,8]\n",
        "temp = 0\n",
        "ind=[0, 0]\n",
        "\n",
        "for i in range(len(data)):\n",
        "  for j in range(i, len(data)):\n",
        "    if i != j and data[i] * data[j] > temp:\n",
        "      temp = data[i] * data[j]\n",
        "      ind[0] = i\n",
        "      ind[1] = j\n",
        "print(ind)"
      ],
      "metadata": {
        "colab": {
          "base_uri": "https://localhost:8080/"
        },
        "id": "pCPe5uxfZn03",
        "outputId": "b76f6c5a-7b28-413f-d355-fdaca4253bd9"
      },
      "execution_count": null,
      "outputs": [
        {
          "output_type": "stream",
          "name": "stdout",
          "text": [
            "[2, 3]\n"
          ]
        }
      ]
    },
    {
      "cell_type": "markdown",
      "source": [
        "## TUGAS PERTEMUAN 2"
      ],
      "metadata": {
        "id": "vkF4ua6EJX5q"
      }
    },
    {
      "cell_type": "markdown",
      "source": [
        "### A-2\n",
        " *Terdapat data integer Buatlah fungsi untuk melakukan pengecekan apakah data tersebut adalah data angka __Palindrome__*, Yaitu jika data dibaca dari kanan ke kiri arau kiri ke kanan memiliki nilai yang sama. return value True jika palindrom dan false jika sebaliknya"
      ],
      "metadata": {
        "id": "3OLzh_mqJjun"
      }
    },
    {
      "cell_type": "code",
      "source": [
        "def isPalindrome(angka):\n",
        "  string_arr = [str(angka)[i] for i in range(len(str(angka)) - 1, -1, -1)]\n",
        "  number = \"\"\n",
        "  for i in range(len(string_arr)):\n",
        "    number += string_arr[i]\n",
        "  return True if int(number) == angka else False\n",
        "\n",
        "angka = int(input(\"Masukan data angka : \"))\n",
        "\n",
        "print(isPalindrome(angka))"
      ],
      "metadata": {
        "colab": {
          "base_uri": "https://localhost:8080/"
        },
        "id": "Eklmu9V3Jk9m",
        "outputId": "1c4a2db9-eb6a-41f3-f503-15cdcac65aae"
      },
      "execution_count": 11,
      "outputs": [
        {
          "output_type": "stream",
          "name": "stdout",
          "text": [
            "Masukan data angka : 222\n",
            "True\n"
          ]
        }
      ]
    },
    {
      "cell_type": "markdown",
      "source": [
        "### A-3"
      ],
      "metadata": {
        "id": "JI6mfVR6yxgi"
      }
    },
    {
      "cell_type": "code",
      "source": [
        "find = \"ku\"\n",
        "text = \"akudiakua\"\n",
        "\n",
        "sama = False\n",
        "ind = []\n",
        "loop = 0\n",
        "\n",
        "for i in range(len(text)):\n",
        "  if (text[i] == find[0] and sama == False) or loop > len(find) - 1:\n",
        "    loop = 0\n",
        "  elif sama == True and loop == len(find) - 1:\n",
        "    ind.append(i - (len(find) - 1))\n",
        "\n",
        "  if find[loop] == text[i]:\n",
        "      sama = True\n",
        "  else:\n",
        "      sama = False\n",
        "  loop = loop + 1\n",
        "\n",
        "\n",
        "print(ind)\n"
      ],
      "metadata": {
        "colab": {
          "base_uri": "https://localhost:8080/"
        },
        "id": "aZpnzOsazyKc",
        "outputId": "fd3b3db2-ce70-4fa6-e36d-a5058ddc6051"
      },
      "execution_count": null,
      "outputs": [
        {
          "output_type": "stream",
          "name": "stdout",
          "text": [
            "[1, 6]\n"
          ]
        }
      ]
    },
    {
      "cell_type": "markdown",
      "source": [
        "### A4"
      ],
      "metadata": {
        "id": "WrCU4FWr4CNt"
      }
    },
    {
      "cell_type": "code",
      "source": [
        "a = [1,2,3,4]\n",
        "\n",
        "def add1(a):\n",
        "  string_arr = [str(a[i]) for i in range(len(a))]\n",
        "  number = ''\n",
        "  for i in range(len(a)):\n",
        "    number += string_arr[i]\n",
        "  number = str(int(number) + 1)\n",
        "  return [int(number[i]) for i in range(len(number))]\n",
        "\n",
        "print(add1(a))\n",
        "\n"
      ],
      "metadata": {
        "colab": {
          "base_uri": "https://localhost:8080/"
        },
        "id": "uj0gePuy4Fao",
        "outputId": "efa147e2-71e6-43b4-d580-86ced0bd56eb"
      },
      "execution_count": 14,
      "outputs": [
        {
          "output_type": "stream",
          "name": "stdout",
          "text": [
            "[1, 2, 3, 5]\n"
          ]
        }
      ]
    },
    {
      "cell_type": "markdown",
      "source": [
        "### A5"
      ],
      "metadata": {
        "id": "NwQdxKy85vXY"
      }
    },
    {
      "cell_type": "code",
      "source": [
        "a = [1,2,3,4,5,1,2,3,4,2,2,3,21,2,1,2,1,1,1,1,1,1,1,1,1,1,1,11,1,1,1,1,1,1,1,1,0,0,0,0,0,0,0,0,0,0,0,0,0,0,0,0,0,0,0,0,0,0,0,0,0,0,0,0,0,0,0,0,0,0,0,0,0,0,0,0,0,0]\n",
        "\n",
        "def modusArray(a):\n",
        "  checked = []\n",
        "  terbanyak = 0\n",
        "  hasil = 0\n",
        "  for i in range(len(a)):\n",
        "    if a[i] not in checked:\n",
        "      banyaknya = 0\n",
        "      for j in range(len(a)):\n",
        "        if a[i] == a[j]:\n",
        "          banyaknya = banyaknya + 1\n",
        "      if banyaknya > terbanyak:\n",
        "        terbanyak = banyaknya\n",
        "        hasil = a[j]\n",
        "      checked.append(a[i])\n",
        "\n",
        "  return hasil\n",
        "\n",
        "print(modusArray(a))"
      ],
      "metadata": {
        "colab": {
          "base_uri": "https://localhost:8080/"
        },
        "id": "XvTxUDWB5xm0",
        "outputId": "02cbc987-fdb8-4c8d-d35f-e79b166da48d"
      },
      "execution_count": null,
      "outputs": [
        {
          "output_type": "stream",
          "name": "stdout",
          "text": [
            "0\n"
          ]
        }
      ]
    }
  ]
}